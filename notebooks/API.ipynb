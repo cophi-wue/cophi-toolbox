{
 "cells": [
  {
   "cell_type": "markdown",
   "metadata": {},
   "source": [
    "# Preprocessing text for Natural Language Processing\n",
    "\n",
    "This is a short, user-oriented introduction to the Python library `cophi`."
   ]
  },
  {
   "cell_type": "code",
   "execution_count": 1,
   "metadata": {},
   "outputs": [],
   "source": [
    "import cophi"
   ]
  },
  {
   "cell_type": "markdown",
   "metadata": {},
   "source": [
    "## High-level API\n",
    "\n",
    "There are basically two functions:\n",
    "\n",
    "- `cophi.documet()` to process single text files.\n",
    "- `cophi.corpus()` to process a whole corpus."
   ]
  },
  {
   "cell_type": "markdown",
   "metadata": {},
   "source": [
    "### What about the parameters?\n",
    "\n",
    "You can use Python’s built-in `help()` function to access `cophi`’s short and sweet documentation:"
   ]
  },
  {
   "cell_type": "code",
   "execution_count": 2,
   "metadata": {},
   "outputs": [
    {
     "name": "stdout",
     "output_type": "stream",
     "text": [
      "Help on function document in module cophi.api:\n",
      "\n",
      "document(filepath, **kwargs)\n",
      "    Read a text file and create a Document object.\n",
      "    \n",
      "    Parameter:\n",
      "        filepath (str): Path to the text file.\n",
      "        title (str): Describing title for the document. (optional).\n",
      "        lowercase (bool): If True, writes all letters in lowercase (optional).\n",
      "        n (int): Number of tokens per ngram (optional).\n",
      "        token_pattern (str): Regex pattern for one token (optional).\n",
      "        maximum (int): Stop tokenizing after that much tokens (optional).\n",
      "    \n",
      "    Returns:\n",
      "        A Document object.\n",
      "\n"
     ]
    }
   ],
   "source": [
    "help(cophi.document)"
   ]
  },
  {
   "cell_type": "markdown",
   "metadata": {},
   "source": [
    "### Processing a single text file"
   ]
  },
  {
   "cell_type": "code",
   "execution_count": 3,
   "metadata": {},
   "outputs": [
    {
     "name": "stdout",
     "output_type": "stream",
     "text": [
      "You have now a <class 'cophi.model.Document'>.\n"
     ]
    }
   ],
   "source": [
    "dickens = cophi.document(filepath=\"british-fiction-corpus/dickens_bleak.txt\",\n",
    "                         title=\"dickens-bleak\",\n",
    "                         lowercase=True,\n",
    "                         n=2,\n",
    "                         token_pattern=r\"\\p{L}+\\p{P}?\\p{L}+\",\n",
    "                         maximum=1000)\n",
    "\n",
    "print(\"You have now a {}.\".format(type(dickens)))"
   ]
  },
  {
   "cell_type": "markdown",
   "metadata": {},
   "source": [
    "Use `help()` to learn about the properties of your new object (this is only a subset):\n",
    "\n",
    "```python\n",
    ">>> help(dickens)\n",
    "```\n",
    "```\n",
    "Help on Document in module cophi.model object:\n",
    "\n",
    "class Document(builtins.object)\n",
    " |  Model class for a Document.\n",
    " |  \n",
    " |  Attributes:\n",
    " |      text (str): Content of the text file.\n",
    " |      title (str): Describing title for the document.\n",
    " |      lowercase (bool): If True, all letters are lowercase.\n",
    " |      n (int): Number of words per ngram.\n",
    " |      token_pattern (str): Regex pattern for one token.\n",
    " |      maximum (int): Stopped tokenizing after that much tokens.\n",
    " |      tokens (list): Tokenized content of the document.\n",
    " |  ----------------------------------------------------------------------\n",
    " |  Data descriptors defined here:\n",
    " |  \n",
    " |  bow\n",
    " |      Bag-of-words representation.\n",
    " |  \n",
    " |  freq_spectrum\n",
    " |      Frequency spectrum.\n",
    " |  \n",
    " |  hapax\n",
    " |      Hapax legomena.\n",
    " |  \n",
    " |  ngrams\n",
    " |      Constructed ngrams.\n",
    " |  \n",
    " |  num_tokens\n",
    " |      Number of tokens.\n",
    " |  \n",
    " |  num_types\n",
    " |      Number of types.\n",
    " ```"
   ]
  },
  {
   "cell_type": "markdown",
   "metadata": {},
   "source": [
    "### Example: Access ngrams"
   ]
  },
  {
   "cell_type": "code",
   "execution_count": 4,
   "metadata": {},
   "outputs": [
    {
     "name": "stdout",
     "output_type": "stream",
     "text": [
      "The return value is a <class 'generator'>.\n"
     ]
    }
   ],
   "source": [
    "ngrams = dickens.ngrams\n",
    "\n",
    "print(\"The return value is a {}.\".format(type(ngrams)))"
   ]
  },
  {
   "cell_type": "markdown",
   "metadata": {},
   "source": [
    "You can e.g. iterate over this generator:"
   ]
  },
  {
   "cell_type": "code",
   "execution_count": 5,
   "metadata": {},
   "outputs": [
    {
     "name": "stdout",
     "output_type": "stream",
     "text": [
      "bleak house\n",
      "house by\n",
      "by charles\n",
      "charles dickens\n"
     ]
    }
   ],
   "source": [
    "for ngram in ngrams:\n",
    "    print(ngram)\n",
    "    if \"dickens\" in ngram:\n",
    "        break"
   ]
  },
  {
   "cell_type": "markdown",
   "metadata": {},
   "source": [
    "### Processing a corpus\n",
    "\n",
    "With `cophi.corpus()`, you can pipe a collection of text files through several NLP tasks, and get a document-term matrix with useful attributes and methods."
   ]
  },
  {
   "cell_type": "markdown",
   "metadata": {},
   "source": [
    "### Basic usage\n",
    "\n",
    "Depending on the size of the text collection, this may take a while. These are the basic steps of the pipeline:\n",
    "\n",
    "1. read,\n",
    "2. get metadata,\n",
    "3. tokenize,\n",
    "4. count tokens,\n",
    "5. arrange in a document-term matrix."
   ]
  },
  {
   "cell_type": "code",
   "execution_count": 6,
   "metadata": {},
   "outputs": [],
   "source": [
    "corpus, metadata = cophi.corpus(directory=\"british-fiction-corpus\",\n",
    "                                filepath_pattern=\"**/*.txt\",\n",
    "                                treat_as=\".txt\",\n",
    "                                encoding=\"utf-8\",\n",
    "                                lowercase=True,\n",
    "                                token_pattern=r\"\\p{L}+\\p{P}?\\p{L}+\",\n",
    "                                maximum=None)"
   ]
  },
  {
   "cell_type": "markdown",
   "metadata": {},
   "source": [
    "One useful attribute would be `stats`, which gives you information about some statistics of your corpus:"
   ]
  },
  {
   "cell_type": "code",
   "execution_count": 7,
   "metadata": {},
   "outputs": [
    {
     "data": {
      "text/plain": [
       "documents         10\n",
       "types          33050\n",
       "tokens       1310189\n",
       "hapax          16495\n",
       "dtype: int64"
      ]
     },
     "execution_count": 7,
     "metadata": {},
     "output_type": "execute_result"
    }
   ],
   "source": [
    "corpus.stats"
   ]
  },
  {
   "cell_type": "markdown",
   "metadata": {},
   "source": [
    "You can access the document-term matrix with the attribute `dtm`, which returns a pandas `DataFrame`:"
   ]
  },
  {
   "cell_type": "code",
   "execution_count": 8,
   "metadata": {},
   "outputs": [
    {
     "data": {
      "text/html": [
       "<div>\n",
       "<style scoped>\n",
       "    .dataframe tbody tr th:only-of-type {\n",
       "        vertical-align: middle;\n",
       "    }\n",
       "\n",
       "    .dataframe tbody tr th {\n",
       "        vertical-align: top;\n",
       "    }\n",
       "\n",
       "    .dataframe thead th {\n",
       "        text-align: right;\n",
       "    }\n",
       "</style>\n",
       "<table border=\"1\" class=\"dataframe\">\n",
       "  <thead>\n",
       "    <tr style=\"text-align: right;\">\n",
       "      <th></th>\n",
       "      <th>a'mighty</th>\n",
       "      <th>a'most</th>\n",
       "      <th>a'n</th>\n",
       "      <th>a'ready</th>\n",
       "      <th>a-bakin</th>\n",
       "      <th>a-be</th>\n",
       "      <th>a-beatin</th>\n",
       "      <th>a-bed</th>\n",
       "      <th>a-begging</th>\n",
       "      <th>a-bleatin</th>\n",
       "    </tr>\n",
       "  </thead>\n",
       "  <tbody>\n",
       "    <tr>\n",
       "      <th>eb1bee2c-a71a-11e8-b62a-002710199d64</th>\n",
       "      <td>0</td>\n",
       "      <td>0</td>\n",
       "      <td>0</td>\n",
       "      <td>0</td>\n",
       "      <td>0</td>\n",
       "      <td>0</td>\n",
       "      <td>0</td>\n",
       "      <td>0</td>\n",
       "      <td>0</td>\n",
       "      <td>0</td>\n",
       "    </tr>\n",
       "    <tr>\n",
       "      <th>eb1bee2d-a71a-11e8-b62a-002710199d64</th>\n",
       "      <td>0</td>\n",
       "      <td>1</td>\n",
       "      <td>0</td>\n",
       "      <td>0</td>\n",
       "      <td>0</td>\n",
       "      <td>0</td>\n",
       "      <td>0</td>\n",
       "      <td>0</td>\n",
       "      <td>0</td>\n",
       "      <td>0</td>\n",
       "    </tr>\n",
       "    <tr>\n",
       "      <th>eb1bee2e-a71a-11e8-b62a-002710199d64</th>\n",
       "      <td>1</td>\n",
       "      <td>1</td>\n",
       "      <td>0</td>\n",
       "      <td>2</td>\n",
       "      <td>0</td>\n",
       "      <td>0</td>\n",
       "      <td>1</td>\n",
       "      <td>0</td>\n",
       "      <td>0</td>\n",
       "      <td>0</td>\n",
       "    </tr>\n",
       "  </tbody>\n",
       "</table>\n",
       "</div>"
      ],
      "text/plain": [
       "                                      a'mighty  a'most  a'n  a'ready  a-bakin  \\\n",
       "eb1bee2c-a71a-11e8-b62a-002710199d64         0       0    0        0        0   \n",
       "eb1bee2d-a71a-11e8-b62a-002710199d64         0       1    0        0        0   \n",
       "eb1bee2e-a71a-11e8-b62a-002710199d64         1       1    0        2        0   \n",
       "\n",
       "                                      a-be  a-beatin  a-bed  a-begging  \\\n",
       "eb1bee2c-a71a-11e8-b62a-002710199d64     0         0      0          0   \n",
       "eb1bee2d-a71a-11e8-b62a-002710199d64     0         0      0          0   \n",
       "eb1bee2e-a71a-11e8-b62a-002710199d64     0         1      0          0   \n",
       "\n",
       "                                      a-bleatin  \n",
       "eb1bee2c-a71a-11e8-b62a-002710199d64          0  \n",
       "eb1bee2d-a71a-11e8-b62a-002710199d64          0  \n",
       "eb1bee2e-a71a-11e8-b62a-002710199d64          0  "
      ]
     },
     "execution_count": 8,
     "metadata": {},
     "output_type": "execute_result"
    }
   ],
   "source": [
    "corpus.dtm.iloc[:3,:10]"
   ]
  },
  {
   "cell_type": "markdown",
   "metadata": {},
   "source": [
    "The function `cophi.corpus()` returned not only the `Corpus` object but also a `Metadata` object with metadata extracted from the filenames:"
   ]
  },
  {
   "cell_type": "code",
   "execution_count": 9,
   "metadata": {},
   "outputs": [
    {
     "data": {
      "text/html": [
       "<div>\n",
       "<style scoped>\n",
       "    .dataframe tbody tr th:only-of-type {\n",
       "        vertical-align: middle;\n",
       "    }\n",
       "\n",
       "    .dataframe tbody tr th {\n",
       "        vertical-align: top;\n",
       "    }\n",
       "\n",
       "    .dataframe thead th {\n",
       "        text-align: right;\n",
       "    }\n",
       "</style>\n",
       "<table border=\"1\" class=\"dataframe\">\n",
       "  <thead>\n",
       "    <tr style=\"text-align: right;\">\n",
       "      <th></th>\n",
       "      <th>filepath</th>\n",
       "      <th>parent</th>\n",
       "      <th>suffix</th>\n",
       "      <th>title</th>\n",
       "      <th>uuid</th>\n",
       "    </tr>\n",
       "  </thead>\n",
       "  <tbody>\n",
       "    <tr>\n",
       "      <th>0</th>\n",
       "      <td>british-fiction-corpus/trollope_phineas.txt</td>\n",
       "      <td>british-fiction-corpus</td>\n",
       "      <td>.txt</td>\n",
       "      <td>trollope_phineas</td>\n",
       "      <td>eb1bee2c-a71a-11e8-b62a-002710199d64</td>\n",
       "    </tr>\n",
       "    <tr>\n",
       "      <th>1</th>\n",
       "      <td>british-fiction-corpus/dickens_bleak.txt</td>\n",
       "      <td>british-fiction-corpus</td>\n",
       "      <td>.txt</td>\n",
       "      <td>dickens_bleak</td>\n",
       "      <td>eb1bee2d-a71a-11e8-b62a-002710199d64</td>\n",
       "    </tr>\n",
       "    <tr>\n",
       "      <th>2</th>\n",
       "      <td>british-fiction-corpus/eliot_mill.txt</td>\n",
       "      <td>british-fiction-corpus</td>\n",
       "      <td>.txt</td>\n",
       "      <td>eliot_mill</td>\n",
       "      <td>eb1bee2e-a71a-11e8-b62a-002710199d64</td>\n",
       "    </tr>\n",
       "  </tbody>\n",
       "</table>\n",
       "</div>"
      ],
      "text/plain": [
       "                                      filepath                  parent suffix  \\\n",
       "0  british-fiction-corpus/trollope_phineas.txt  british-fiction-corpus   .txt   \n",
       "1     british-fiction-corpus/dickens_bleak.txt  british-fiction-corpus   .txt   \n",
       "2        british-fiction-corpus/eliot_mill.txt  british-fiction-corpus   .txt   \n",
       "\n",
       "              title                                  uuid  \n",
       "0  trollope_phineas  eb1bee2c-a71a-11e8-b62a-002710199d64  \n",
       "1     dickens_bleak  eb1bee2d-a71a-11e8-b62a-002710199d64  \n",
       "2        eliot_mill  eb1bee2e-a71a-11e8-b62a-002710199d64  "
      ]
     },
     "execution_count": 9,
     "metadata": {},
     "output_type": "execute_result"
    }
   ],
   "source": [
    "metadata.iloc[:3]"
   ]
  },
  {
   "cell_type": "markdown",
   "metadata": {},
   "source": [
    "You can easily add additional metadata to the existing object (which is basically a pandas `DataFrame`):"
   ]
  },
  {
   "cell_type": "code",
   "execution_count": 10,
   "metadata": {},
   "outputs": [
    {
     "data": {
      "text/html": [
       "<div>\n",
       "<style scoped>\n",
       "    .dataframe tbody tr th:only-of-type {\n",
       "        vertical-align: middle;\n",
       "    }\n",
       "\n",
       "    .dataframe tbody tr th {\n",
       "        vertical-align: top;\n",
       "    }\n",
       "\n",
       "    .dataframe thead th {\n",
       "        text-align: right;\n",
       "    }\n",
       "</style>\n",
       "<table border=\"1\" class=\"dataframe\">\n",
       "  <thead>\n",
       "    <tr style=\"text-align: right;\">\n",
       "      <th></th>\n",
       "      <th>filepath</th>\n",
       "      <th>parent</th>\n",
       "      <th>suffix</th>\n",
       "      <th>title</th>\n",
       "      <th>uuid</th>\n",
       "      <th>year</th>\n",
       "    </tr>\n",
       "  </thead>\n",
       "  <tbody>\n",
       "    <tr>\n",
       "      <th>0</th>\n",
       "      <td>british-fiction-corpus/trollope_phineas.txt</td>\n",
       "      <td>british-fiction-corpus</td>\n",
       "      <td>.txt</td>\n",
       "      <td>trollope_phineas</td>\n",
       "      <td>eb1bee2c-a71a-11e8-b62a-002710199d64</td>\n",
       "      <td>1868</td>\n",
       "    </tr>\n",
       "    <tr>\n",
       "      <th>1</th>\n",
       "      <td>british-fiction-corpus/dickens_bleak.txt</td>\n",
       "      <td>british-fiction-corpus</td>\n",
       "      <td>.txt</td>\n",
       "      <td>dickens_bleak</td>\n",
       "      <td>eb1bee2d-a71a-11e8-b62a-002710199d64</td>\n",
       "      <td>1853</td>\n",
       "    </tr>\n",
       "    <tr>\n",
       "      <th>2</th>\n",
       "      <td>british-fiction-corpus/eliot_mill.txt</td>\n",
       "      <td>british-fiction-corpus</td>\n",
       "      <td>.txt</td>\n",
       "      <td>eliot_mill</td>\n",
       "      <td>eb1bee2e-a71a-11e8-b62a-002710199d64</td>\n",
       "      <td>1860</td>\n",
       "    </tr>\n",
       "  </tbody>\n",
       "</table>\n",
       "</div>"
      ],
      "text/plain": [
       "                                      filepath                  parent suffix  \\\n",
       "0  british-fiction-corpus/trollope_phineas.txt  british-fiction-corpus   .txt   \n",
       "1     british-fiction-corpus/dickens_bleak.txt  british-fiction-corpus   .txt   \n",
       "2        british-fiction-corpus/eliot_mill.txt  british-fiction-corpus   .txt   \n",
       "\n",
       "              title                                  uuid  year  \n",
       "0  trollope_phineas  eb1bee2c-a71a-11e8-b62a-002710199d64  1868  \n",
       "1     dickens_bleak  eb1bee2d-a71a-11e8-b62a-002710199d64  1853  \n",
       "2        eliot_mill  eb1bee2e-a71a-11e8-b62a-002710199d64  1860  "
      ]
     },
     "execution_count": 10,
     "metadata": {},
     "output_type": "execute_result"
    }
   ],
   "source": [
    "metadata[\"year\"] = [1868, 1853, 1860, 1799, 1742, 1749, 1844, 1850, 1876, 1848]\n",
    "metadata.iloc[:3]"
   ]
  },
  {
   "cell_type": "markdown",
   "metadata": {},
   "source": [
    "Or you can save it with its pandas `to_csv()` method, edit or enrich it with a spreadsheet program like Excel, and read it again with `pd.read_csv()`.\n",
    "\n",
    "> In case you want to map metadata to the document-term matrix, be aware that each line in the document-term matrix must have a unique index value.\n",
    "\n",
    "The `Corpus` object also has a static method for mapping metadata (based on a [UUID](https://en.wikipedia.org/wiki/Universally_unique_identifier)) to the document-term matrix:"
   ]
  },
  {
   "cell_type": "code",
   "execution_count": 11,
   "metadata": {},
   "outputs": [
    {
     "data": {
      "text/html": [
       "<div>\n",
       "<style scoped>\n",
       "    .dataframe tbody tr th:only-of-type {\n",
       "        vertical-align: middle;\n",
       "    }\n",
       "\n",
       "    .dataframe tbody tr th {\n",
       "        vertical-align: top;\n",
       "    }\n",
       "\n",
       "    .dataframe thead th {\n",
       "        text-align: right;\n",
       "    }\n",
       "</style>\n",
       "<table border=\"1\" class=\"dataframe\">\n",
       "  <thead>\n",
       "    <tr style=\"text-align: right;\">\n",
       "      <th></th>\n",
       "      <th>a'mighty</th>\n",
       "      <th>a'most</th>\n",
       "      <th>a'n</th>\n",
       "      <th>a'ready</th>\n",
       "      <th>a-bakin</th>\n",
       "      <th>a-be</th>\n",
       "      <th>a-beatin</th>\n",
       "      <th>a-bed</th>\n",
       "      <th>a-begging</th>\n",
       "      <th>a-bleatin</th>\n",
       "    </tr>\n",
       "  </thead>\n",
       "  <tbody>\n",
       "    <tr>\n",
       "      <th>1868_trollope_phineas</th>\n",
       "      <td>0</td>\n",
       "      <td>0</td>\n",
       "      <td>0</td>\n",
       "      <td>0</td>\n",
       "      <td>0</td>\n",
       "      <td>0</td>\n",
       "      <td>0</td>\n",
       "      <td>0</td>\n",
       "      <td>0</td>\n",
       "      <td>0</td>\n",
       "    </tr>\n",
       "    <tr>\n",
       "      <th>1853_dickens_bleak</th>\n",
       "      <td>0</td>\n",
       "      <td>1</td>\n",
       "      <td>0</td>\n",
       "      <td>0</td>\n",
       "      <td>0</td>\n",
       "      <td>0</td>\n",
       "      <td>0</td>\n",
       "      <td>0</td>\n",
       "      <td>0</td>\n",
       "      <td>0</td>\n",
       "    </tr>\n",
       "    <tr>\n",
       "      <th>1860_eliot_mill</th>\n",
       "      <td>1</td>\n",
       "      <td>1</td>\n",
       "      <td>0</td>\n",
       "      <td>2</td>\n",
       "      <td>0</td>\n",
       "      <td>0</td>\n",
       "      <td>1</td>\n",
       "      <td>0</td>\n",
       "      <td>0</td>\n",
       "      <td>0</td>\n",
       "    </tr>\n",
       "  </tbody>\n",
       "</table>\n",
       "</div>"
      ],
      "text/plain": [
       "                       a'mighty  a'most  a'n  a'ready  a-bakin  a-be  \\\n",
       "1868_trollope_phineas         0       0    0        0        0     0   \n",
       "1853_dickens_bleak            0       1    0        0        0     0   \n",
       "1860_eliot_mill               1       1    0        2        0     0   \n",
       "\n",
       "                       a-beatin  a-bed  a-begging  a-bleatin  \n",
       "1868_trollope_phineas         0      0          0          0  \n",
       "1853_dickens_bleak            0      0          0          0  \n",
       "1860_eliot_mill               1      0          0          0  "
      ]
     },
     "execution_count": 11,
     "metadata": {},
     "output_type": "execute_result"
    }
   ],
   "source": [
    "corpus.map_metadata(data=corpus.dtm,\n",
    "                    metadata=metadata,\n",
    "                    uuid=\"uuid\",  # connection between metadata and document\n",
    "                    fields=[\"year\", \"title\"],  # year and title as document descriptor\n",
    "                    sep=\"_\").iloc[:3,:10]"
   ]
  },
  {
   "cell_type": "markdown",
   "metadata": {},
   "source": [
    "### Advanced usage\n",
    "\n",
    "The `Corpus` object has some useful methods and attributes. In addition to various normalized or standardized document-term matrices, there are a multitude of lexical complexity measures – by document or corpus."
   ]
  },
  {
   "cell_type": "markdown",
   "metadata": {},
   "source": [
    "#### Corpus vocabulary (or types)"
   ]
  },
  {
   "cell_type": "code",
   "execution_count": 12,
   "metadata": {},
   "outputs": [
    {
     "data": {
      "text/plain": [
       "[\"a'mighty\",\n",
       " \"a'most\",\n",
       " \"a'n\",\n",
       " \"a'ready\",\n",
       " 'a-bakin',\n",
       " 'a-be',\n",
       " 'a-beatin',\n",
       " 'a-bed',\n",
       " 'a-begging',\n",
       " 'a-bleatin']"
      ]
     },
     "execution_count": 12,
     "metadata": {},
     "output_type": "execute_result"
    }
   ],
   "source": [
    "corpus.types[:10]"
   ]
  },
  {
   "cell_type": "markdown",
   "metadata": {},
   "source": [
    "#### Most frequent words\n",
    "\n",
    "You can return a list of the tokens itself (with `as_list=True`, which is default):"
   ]
  },
  {
   "cell_type": "code",
   "execution_count": 13,
   "metadata": {},
   "outputs": [
    {
     "data": {
      "text/plain": [
       "['the', 'and', 'to', 'of', 'in', 'he', 'was', 'that', 'his', 'it']"
      ]
     },
     "execution_count": 13,
     "metadata": {},
     "output_type": "execute_result"
    }
   ],
   "source": [
    "corpus.mfw(n=10,\n",
    "           as_list=True)"
   ]
  },
  {
   "cell_type": "markdown",
   "metadata": {},
   "source": [
    "Or with their frequencies:"
   ]
  },
  {
   "cell_type": "code",
   "execution_count": 14,
   "metadata": {},
   "outputs": [
    {
     "data": {
      "text/plain": [
       "the     0.498177\n",
       "and     0.333683\n",
       "to      0.314256\n",
       "of      0.276484\n",
       "in      0.172018\n",
       "he      0.155096\n",
       "was     0.149235\n",
       "that    0.144934\n",
       "his     0.121167\n",
       "it      0.113929\n",
       "dtype: float64"
      ]
     },
     "execution_count": 14,
     "metadata": {},
     "output_type": "execute_result"
    }
   ],
   "source": [
    "mfw = corpus.mfw(n=10,\n",
    "                 as_list=False)\n",
    "mfw"
   ]
  },
  {
   "cell_type": "markdown",
   "metadata": {},
   "source": [
    "Because this is a pandas `Series`, you can easily plot the frequencies (first using `sort_values()`, that most common word is at the top of the plot):"
   ]
  },
  {
   "cell_type": "code",
   "execution_count": 15,
   "metadata": {},
   "outputs": [
    {
     "data": {
      "text/plain": [
       "<matplotlib.axes._subplots.AxesSubplot at 0x7fa01413eb70>"
      ]
     },
     "execution_count": 15,
     "metadata": {},
     "output_type": "execute_result"
    },
    {
     "data": {
      "image/png": "[encoded data removed]",
      "text/plain": [
       "<Figure size 432x288 with 1 Axes>"
      ]
     },
     "metadata": {},
     "output_type": "display_data"
    }
   ],
   "source": [
    "%matplotlib inline\n",
    "\n",
    "mfw.sort_values().plot.barh(color=\"grey\")"
   ]
  },
  {
   "cell_type": "markdown",
   "metadata": {},
   "source": [
    "#### Hapax legomena\n",
    "\n",
    "In corpus linguistics, a hapax legomenon is a word that occurs only once within a context, or in this case in a single text."
   ]
  },
  {
   "cell_type": "code",
   "execution_count": 16,
   "metadata": {},
   "outputs": [
    {
     "data": {
      "text/plain": [
       "[\"a'mighty\",\n",
       " \"a'n\",\n",
       " 'a-bakin',\n",
       " 'a-beatin',\n",
       " 'a-begging',\n",
       " 'a-bleatin',\n",
       " 'a-bringin',\n",
       " 'a-carrying',\n",
       " 'a-collectin',\n",
       " 'a-comin']"
      ]
     },
     "execution_count": 16,
     "metadata": {},
     "output_type": "execute_result"
    }
   ],
   "source": [
    "corpus.hapax[:10]"
   ]
  },
  {
   "cell_type": "markdown",
   "metadata": {},
   "source": [
    "#### Drop features from document-term matrix"
   ]
  },
  {
   "cell_type": "code",
   "execution_count": 17,
   "metadata": {},
   "outputs": [
    {
     "name": "stdout",
     "output_type": "stream",
     "text": [
      "A total of 16595 features will be dropped.\n"
     ]
    }
   ],
   "source": [
    "features = corpus.mfw(n=100) + corpus.hapax\n",
    "print(\"A total of {} features will be dropped.\".format(len(features)))"
   ]
  },
  {
   "cell_type": "code",
   "execution_count": 18,
   "metadata": {},
   "outputs": [
    {
     "name": "stdout",
     "output_type": "stream",
     "text": [
      "Vocabulary size before: 33050\n"
     ]
    }
   ],
   "source": [
    "print(\"Vocabulary size before: {}\".format(corpus.stats[\"types\"]))"
   ]
  },
  {
   "cell_type": "code",
   "execution_count": 19,
   "metadata": {},
   "outputs": [
    {
     "name": "stdout",
     "output_type": "stream",
     "text": [
      "Vocabulary size after: 16455\n"
     ]
    }
   ],
   "source": [
    "dtm = corpus.drop(dtm=corpus.dtm,\n",
    "                  features=features)\n",
    "print(\"Vocabulary size after: {}\".format(dtm.shape[1]))"
   ]
  },
  {
   "cell_type": "markdown",
   "metadata": {},
   "source": [
    "#### Culling\n",
    "Remove features that do not appear in a minimum of documents."
   ]
  },
  {
   "cell_type": "code",
   "execution_count": 20,
   "metadata": {},
   "outputs": [
    {
     "data": {
      "text/html": [
       "<div>\n",
       "<style scoped>\n",
       "    .dataframe tbody tr th:only-of-type {\n",
       "        vertical-align: middle;\n",
       "    }\n",
       "\n",
       "    .dataframe tbody tr th {\n",
       "        vertical-align: top;\n",
       "    }\n",
       "\n",
       "    .dataframe thead th {\n",
       "        text-align: right;\n",
       "    }\n",
       "</style>\n",
       "<table border=\"1\" class=\"dataframe\">\n",
       "  <thead>\n",
       "    <tr style=\"text-align: right;\">\n",
       "      <th></th>\n",
       "      <th>a-going</th>\n",
       "      <th>abandon</th>\n",
       "      <th>abandoned</th>\n",
       "      <th>abated</th>\n",
       "      <th>abhorrence</th>\n",
       "      <th>abide</th>\n",
       "      <th>abilities</th>\n",
       "      <th>ability</th>\n",
       "      <th>able</th>\n",
       "      <th>abode</th>\n",
       "    </tr>\n",
       "  </thead>\n",
       "  <tbody>\n",
       "    <tr>\n",
       "      <th>eb1bee2c-a71a-11e8-b62a-002710199d64</th>\n",
       "      <td>NaN</td>\n",
       "      <td>14.0</td>\n",
       "      <td>1.0</td>\n",
       "      <td>NaN</td>\n",
       "      <td>NaN</td>\n",
       "      <td>NaN</td>\n",
       "      <td>NaN</td>\n",
       "      <td>3.0</td>\n",
       "      <td>45</td>\n",
       "      <td>1.0</td>\n",
       "    </tr>\n",
       "    <tr>\n",
       "      <th>eb1bee2d-a71a-11e8-b62a-002710199d64</th>\n",
       "      <td>4.0</td>\n",
       "      <td>3.0</td>\n",
       "      <td>2.0</td>\n",
       "      <td>1.0</td>\n",
       "      <td>1.0</td>\n",
       "      <td>NaN</td>\n",
       "      <td>2.0</td>\n",
       "      <td>1.0</td>\n",
       "      <td>21</td>\n",
       "      <td>2.0</td>\n",
       "    </tr>\n",
       "    <tr>\n",
       "      <th>eb1bee2e-a71a-11e8-b62a-002710199d64</th>\n",
       "      <td>NaN</td>\n",
       "      <td>NaN</td>\n",
       "      <td>NaN</td>\n",
       "      <td>2.0</td>\n",
       "      <td>1.0</td>\n",
       "      <td>1.0</td>\n",
       "      <td>1.0</td>\n",
       "      <td>NaN</td>\n",
       "      <td>14</td>\n",
       "      <td>NaN</td>\n",
       "    </tr>\n",
       "  </tbody>\n",
       "</table>\n",
       "</div>"
      ],
      "text/plain": [
       "                                      a-going  abandon  abandoned  abated  \\\n",
       "eb1bee2c-a71a-11e8-b62a-002710199d64      NaN     14.0        1.0     NaN   \n",
       "eb1bee2d-a71a-11e8-b62a-002710199d64      4.0      3.0        2.0     1.0   \n",
       "eb1bee2e-a71a-11e8-b62a-002710199d64      NaN      NaN        NaN     2.0   \n",
       "\n",
       "                                      abhorrence  abide  abilities  ability  \\\n",
       "eb1bee2c-a71a-11e8-b62a-002710199d64         NaN    NaN        NaN      3.0   \n",
       "eb1bee2d-a71a-11e8-b62a-002710199d64         1.0    NaN        2.0      1.0   \n",
       "eb1bee2e-a71a-11e8-b62a-002710199d64         1.0    1.0        1.0      NaN   \n",
       "\n",
       "                                      able  abode  \n",
       "eb1bee2c-a71a-11e8-b62a-002710199d64    45    1.0  \n",
       "eb1bee2d-a71a-11e8-b62a-002710199d64    21    2.0  \n",
       "eb1bee2e-a71a-11e8-b62a-002710199d64    14    NaN  "
      ]
     },
     "execution_count": 20,
     "metadata": {},
     "output_type": "execute_result"
    }
   ],
   "source": [
    "culled = corpus.cull(dtm=corpus.dtm,\n",
    "                     threshold=5,  # must appear in at least 5 documents\n",
    "                     keepna=True)\n",
    "culled.iloc[:3,:10]"
   ]
  },
  {
   "cell_type": "markdown",
   "metadata": {},
   "source": [
    "#### Frequency spectrum\n",
    "\n",
    "How often does a frequency occur in the corpus?"
   ]
  },
  {
   "cell_type": "code",
   "execution_count": 21,
   "metadata": {},
   "outputs": [
    {
     "data": {
      "text/plain": [
       "1     12616\n",
       "2      4508\n",
       "3      2627\n",
       "4      1760\n",
       "5      1253\n",
       "6      1012\n",
       "7       863\n",
       "8       586\n",
       "9       519\n",
       "10      467\n",
       "dtype: int64"
      ]
     },
     "execution_count": 21,
     "metadata": {},
     "output_type": "execute_result"
    }
   ],
   "source": [
    "freq_spectrum = corpus.freq_spectrum[:10]\n",
    "freq_spectrum"
   ]
  },
  {
   "cell_type": "markdown",
   "metadata": {},
   "source": [
    "Plotting is easy:"
   ]
  },
  {
   "cell_type": "code",
   "execution_count": 22,
   "metadata": {},
   "outputs": [
    {
     "data": {
      "text/plain": [
       "<matplotlib.axes._subplots.AxesSubplot at 0x7fa0127945c0>"
      ]
     },
     "execution_count": 22,
     "metadata": {},
     "output_type": "execute_result"
    },
    {
     "data": {
      "image/png": "[encoded data removed]",
      "text/plain": [
       "<Figure size 432x288 with 1 Axes>"
      ]
     },
     "metadata": {},
     "output_type": "display_data"
    }
   ],
   "source": [
    "freq_spectrum.sort_values().plot.barh(color=\"grey\")"
   ]
  },
  {
   "cell_type": "markdown",
   "metadata": {},
   "source": [
    "#### Document-term matrix sorted in descending order"
   ]
  },
  {
   "cell_type": "code",
   "execution_count": 23,
   "metadata": {},
   "outputs": [
    {
     "data": {
      "text/html": [
       "<div>\n",
       "<style scoped>\n",
       "    .dataframe tbody tr th:only-of-type {\n",
       "        vertical-align: middle;\n",
       "    }\n",
       "\n",
       "    .dataframe tbody tr th {\n",
       "        vertical-align: top;\n",
       "    }\n",
       "\n",
       "    .dataframe thead th {\n",
       "        text-align: right;\n",
       "    }\n",
       "</style>\n",
       "<table border=\"1\" class=\"dataframe\">\n",
       "  <thead>\n",
       "    <tr style=\"text-align: right;\">\n",
       "      <th></th>\n",
       "      <th>the</th>\n",
       "      <th>and</th>\n",
       "      <th>to</th>\n",
       "      <th>of</th>\n",
       "      <th>in</th>\n",
       "      <th>he</th>\n",
       "      <th>was</th>\n",
       "      <th>that</th>\n",
       "      <th>his</th>\n",
       "      <th>it</th>\n",
       "    </tr>\n",
       "  </thead>\n",
       "  <tbody>\n",
       "    <tr>\n",
       "      <th>eb1bee2c-a71a-11e8-b62a-002710199d64</th>\n",
       "      <td>6412</td>\n",
       "      <td>4226</td>\n",
       "      <td>5175</td>\n",
       "      <td>4004</td>\n",
       "      <td>2416</td>\n",
       "      <td>3667</td>\n",
       "      <td>2424</td>\n",
       "      <td>3373</td>\n",
       "      <td>2094</td>\n",
       "      <td>1854</td>\n",
       "    </tr>\n",
       "    <tr>\n",
       "      <th>eb1bee2d-a71a-11e8-b62a-002710199d64</th>\n",
       "      <td>4918</td>\n",
       "      <td>3706</td>\n",
       "      <td>2928</td>\n",
       "      <td>2642</td>\n",
       "      <td>1909</td>\n",
       "      <td>1387</td>\n",
       "      <td>1194</td>\n",
       "      <td>1389</td>\n",
       "      <td>1079</td>\n",
       "      <td>1464</td>\n",
       "    </tr>\n",
       "    <tr>\n",
       "      <th>eb1bee2e-a71a-11e8-b62a-002710199d64</th>\n",
       "      <td>4053</td>\n",
       "      <td>2979</td>\n",
       "      <td>2701</td>\n",
       "      <td>2216</td>\n",
       "      <td>1389</td>\n",
       "      <td>1135</td>\n",
       "      <td>1456</td>\n",
       "      <td>1139</td>\n",
       "      <td>1065</td>\n",
       "      <td>1129</td>\n",
       "    </tr>\n",
       "  </tbody>\n",
       "</table>\n",
       "</div>"
      ],
      "text/plain": [
       "                                       the   and    to    of    in    he  \\\n",
       "eb1bee2c-a71a-11e8-b62a-002710199d64  6412  4226  5175  4004  2416  3667   \n",
       "eb1bee2d-a71a-11e8-b62a-002710199d64  4918  3706  2928  2642  1909  1387   \n",
       "eb1bee2e-a71a-11e8-b62a-002710199d64  4053  2979  2701  2216  1389  1135   \n",
       "\n",
       "                                       was  that   his    it  \n",
       "eb1bee2c-a71a-11e8-b62a-002710199d64  2424  3373  2094  1854  \n",
       "eb1bee2d-a71a-11e8-b62a-002710199d64  1194  1389  1079  1464  \n",
       "eb1bee2e-a71a-11e8-b62a-002710199d64  1456  1139  1065  1129  "
      ]
     },
     "execution_count": 23,
     "metadata": {},
     "output_type": "execute_result"
    }
   ],
   "source": [
    "corpus.sort(dtm=corpus.dtm).iloc[:3,:10]"
   ]
  },
  {
   "cell_type": "markdown",
   "metadata": {},
   "source": [
    "#### Document-term matrix with z-scores\n",
    "\n",
    "Used formula is: $z_x = \\frac{x - \\mu}{\\sigma}$"
   ]
  },
  {
   "cell_type": "code",
   "execution_count": 24,
   "metadata": {},
   "outputs": [
    {
     "data": {
      "text/html": [
       "<div>\n",
       "<style scoped>\n",
       "    .dataframe tbody tr th:only-of-type {\n",
       "        vertical-align: middle;\n",
       "    }\n",
       "\n",
       "    .dataframe tbody tr th {\n",
       "        vertical-align: top;\n",
       "    }\n",
       "\n",
       "    .dataframe thead th {\n",
       "        text-align: right;\n",
       "    }\n",
       "</style>\n",
       "<table border=\"1\" class=\"dataframe\">\n",
       "  <thead>\n",
       "    <tr style=\"text-align: right;\">\n",
       "      <th></th>\n",
       "      <th>a'mighty</th>\n",
       "      <th>a'most</th>\n",
       "      <th>a'n</th>\n",
       "      <th>a'ready</th>\n",
       "      <th>a-bakin</th>\n",
       "      <th>a-be</th>\n",
       "      <th>a-beatin</th>\n",
       "      <th>a-bed</th>\n",
       "      <th>a-begging</th>\n",
       "      <th>a-bleatin</th>\n",
       "    </tr>\n",
       "  </thead>\n",
       "  <tbody>\n",
       "    <tr>\n",
       "      <th>eb1bee2c-a71a-11e8-b62a-002710199d64</th>\n",
       "      <td>-0.474342</td>\n",
       "      <td>-0.650791</td>\n",
       "      <td>-0.316228</td>\n",
       "      <td>-0.414039</td>\n",
       "      <td>-0.316228</td>\n",
       "      <td>-0.316228</td>\n",
       "      <td>-0.316228</td>\n",
       "      <td>-0.444478</td>\n",
       "      <td>-0.474342</td>\n",
       "      <td>-0.316228</td>\n",
       "    </tr>\n",
       "    <tr>\n",
       "      <th>eb1bee2d-a71a-11e8-b62a-002710199d64</th>\n",
       "      <td>-0.474342</td>\n",
       "      <td>0.162698</td>\n",
       "      <td>-0.316228</td>\n",
       "      <td>-0.414039</td>\n",
       "      <td>-0.316228</td>\n",
       "      <td>-0.316228</td>\n",
       "      <td>-0.316228</td>\n",
       "      <td>-0.444478</td>\n",
       "      <td>-0.474342</td>\n",
       "      <td>-0.316228</td>\n",
       "    </tr>\n",
       "    <tr>\n",
       "      <th>eb1bee2e-a71a-11e8-b62a-002710199d64</th>\n",
       "      <td>1.897367</td>\n",
       "      <td>0.162698</td>\n",
       "      <td>-0.316228</td>\n",
       "      <td>0.621059</td>\n",
       "      <td>-0.316228</td>\n",
       "      <td>-0.316228</td>\n",
       "      <td>2.846050</td>\n",
       "      <td>-0.444478</td>\n",
       "      <td>-0.474342</td>\n",
       "      <td>-0.316228</td>\n",
       "    </tr>\n",
       "  </tbody>\n",
       "</table>\n",
       "</div>"
      ],
      "text/plain": [
       "                                      a'mighty    a'most       a'n   a'ready  \\\n",
       "eb1bee2c-a71a-11e8-b62a-002710199d64 -0.474342 -0.650791 -0.316228 -0.414039   \n",
       "eb1bee2d-a71a-11e8-b62a-002710199d64 -0.474342  0.162698 -0.316228 -0.414039   \n",
       "eb1bee2e-a71a-11e8-b62a-002710199d64  1.897367  0.162698 -0.316228  0.621059   \n",
       "\n",
       "                                       a-bakin      a-be  a-beatin     a-bed  \\\n",
       "eb1bee2c-a71a-11e8-b62a-002710199d64 -0.316228 -0.316228 -0.316228 -0.444478   \n",
       "eb1bee2d-a71a-11e8-b62a-002710199d64 -0.316228 -0.316228 -0.316228 -0.444478   \n",
       "eb1bee2e-a71a-11e8-b62a-002710199d64 -0.316228 -0.316228  2.846050 -0.444478   \n",
       "\n",
       "                                      a-begging  a-bleatin  \n",
       "eb1bee2c-a71a-11e8-b62a-002710199d64  -0.474342  -0.316228  \n",
       "eb1bee2d-a71a-11e8-b62a-002710199d64  -0.474342  -0.316228  \n",
       "eb1bee2e-a71a-11e8-b62a-002710199d64  -0.474342  -0.316228  "
      ]
     },
     "execution_count": 24,
     "metadata": {},
     "output_type": "execute_result"
    }
   ],
   "source": [
    "corpus.zscores.iloc[:3,:10]"
   ]
  },
  {
   "cell_type": "markdown",
   "metadata": {},
   "source": [
    "#### Document-term matrix with TF-IDF scores\n",
    "\n",
    "Used formula is: $tf-idf_{t,d} \\; = \\; tf_{t,d} \\times idf_t \\; = \\; tf_{t,d} \\times log(\\frac{N}{df_t})$"
   ]
  },
  {
   "cell_type": "code",
   "execution_count": 25,
   "metadata": {},
   "outputs": [
    {
     "data": {
      "text/html": [
       "<div>\n",
       "<style scoped>\n",
       "    .dataframe tbody tr th:only-of-type {\n",
       "        vertical-align: middle;\n",
       "    }\n",
       "\n",
       "    .dataframe tbody tr th {\n",
       "        vertical-align: top;\n",
       "    }\n",
       "\n",
       "    .dataframe thead th {\n",
       "        text-align: right;\n",
       "    }\n",
       "</style>\n",
       "<table border=\"1\" class=\"dataframe\">\n",
       "  <thead>\n",
       "    <tr style=\"text-align: right;\">\n",
       "      <th></th>\n",
       "      <th>a'mighty</th>\n",
       "      <th>a'most</th>\n",
       "      <th>a'n</th>\n",
       "      <th>a'ready</th>\n",
       "      <th>a-bakin</th>\n",
       "      <th>a-be</th>\n",
       "      <th>a-beatin</th>\n",
       "      <th>a-bed</th>\n",
       "      <th>a-begging</th>\n",
       "      <th>a-bleatin</th>\n",
       "    </tr>\n",
       "  </thead>\n",
       "  <tbody>\n",
       "    <tr>\n",
       "      <th>eb1bee2c-a71a-11e8-b62a-002710199d64</th>\n",
       "      <td>0.000000</td>\n",
       "      <td>0.000000</td>\n",
       "      <td>0.0</td>\n",
       "      <td>0.000000</td>\n",
       "      <td>0.0</td>\n",
       "      <td>0.0</td>\n",
       "      <td>0.000000</td>\n",
       "      <td>0.0</td>\n",
       "      <td>0.0</td>\n",
       "      <td>0.0</td>\n",
       "    </tr>\n",
       "    <tr>\n",
       "      <th>eb1bee2d-a71a-11e8-b62a-002710199d64</th>\n",
       "      <td>0.000000</td>\n",
       "      <td>0.000009</td>\n",
       "      <td>0.0</td>\n",
       "      <td>0.000000</td>\n",
       "      <td>0.0</td>\n",
       "      <td>0.0</td>\n",
       "      <td>0.000000</td>\n",
       "      <td>0.0</td>\n",
       "      <td>0.0</td>\n",
       "      <td>0.0</td>\n",
       "    </tr>\n",
       "    <tr>\n",
       "      <th>eb1bee2e-a71a-11e8-b62a-002710199d64</th>\n",
       "      <td>0.000017</td>\n",
       "      <td>0.000010</td>\n",
       "      <td>0.0</td>\n",
       "      <td>0.000035</td>\n",
       "      <td>0.0</td>\n",
       "      <td>0.0</td>\n",
       "      <td>0.000025</td>\n",
       "      <td>0.0</td>\n",
       "      <td>0.0</td>\n",
       "      <td>0.0</td>\n",
       "    </tr>\n",
       "  </tbody>\n",
       "</table>\n",
       "</div>"
      ],
      "text/plain": [
       "                                      a'mighty    a'most  a'n   a'ready  \\\n",
       "eb1bee2c-a71a-11e8-b62a-002710199d64  0.000000  0.000000  0.0  0.000000   \n",
       "eb1bee2d-a71a-11e8-b62a-002710199d64  0.000000  0.000009  0.0  0.000000   \n",
       "eb1bee2e-a71a-11e8-b62a-002710199d64  0.000017  0.000010  0.0  0.000035   \n",
       "\n",
       "                                      a-bakin  a-be  a-beatin  a-bed  \\\n",
       "eb1bee2c-a71a-11e8-b62a-002710199d64      0.0   0.0  0.000000    0.0   \n",
       "eb1bee2d-a71a-11e8-b62a-002710199d64      0.0   0.0  0.000000    0.0   \n",
       "eb1bee2e-a71a-11e8-b62a-002710199d64      0.0   0.0  0.000025    0.0   \n",
       "\n",
       "                                      a-begging  a-bleatin  \n",
       "eb1bee2c-a71a-11e8-b62a-002710199d64        0.0        0.0  \n",
       "eb1bee2d-a71a-11e8-b62a-002710199d64        0.0        0.0  \n",
       "eb1bee2e-a71a-11e8-b62a-002710199d64        0.0        0.0  "
      ]
     },
     "execution_count": 25,
     "metadata": {},
     "output_type": "execute_result"
    }
   ],
   "source": [
    "corpus.tfidf.iloc[:3,:10]"
   ]
  },
  {
   "cell_type": "markdown",
   "metadata": {},
   "source": [
    "#### Number of tokens by document"
   ]
  },
  {
   "cell_type": "code",
   "execution_count": 26,
   "metadata": {},
   "outputs": [
    {
     "data": {
      "text/plain": [
       "eb1bee2c-a71a-11e8-b62a-002710199d64    149926\n",
       "eb1bee2d-a71a-11e8-b62a-002710199d64     99570\n",
       "eb1bee2e-a71a-11e8-b62a-002710199d64     92012\n",
       "eb1bee2f-a71a-11e8-b62a-002710199d64    127439\n",
       "eb1bee30-a71a-11e8-b62a-002710199d64     87923\n",
       "eb1bee31-a71a-11e8-b62a-002710199d64    158439\n",
       "eb1bee32-a71a-11e8-b62a-002710199d64     97524\n",
       "eb1bee33-a71a-11e8-b62a-002710199d64    147059\n",
       "eb1bee34-a71a-11e8-b62a-002710199d64    146348\n",
       "eb1bee35-a71a-11e8-b62a-002710199d64    203949\n",
       "dtype: int64"
      ]
     },
     "execution_count": 26,
     "metadata": {},
     "output_type": "execute_result"
    }
   ],
   "source": [
    "corpus.num_tokens"
   ]
  },
  {
   "cell_type": "markdown",
   "metadata": {},
   "source": [
    "#### Number of types by document"
   ]
  },
  {
   "cell_type": "code",
   "execution_count": 27,
   "metadata": {},
   "outputs": [
    {
     "data": {
      "text/plain": [
       "eb1bee2c-a71a-11e8-b62a-002710199d64     7845\n",
       "eb1bee2d-a71a-11e8-b62a-002710199d64     9174\n",
       "eb1bee2e-a71a-11e8-b62a-002710199d64     8828\n",
       "eb1bee2f-a71a-11e8-b62a-002710199d64    10357\n",
       "eb1bee30-a71a-11e8-b62a-002710199d64     7574\n",
       "eb1bee31-a71a-11e8-b62a-002710199d64    10023\n",
       "eb1bee32-a71a-11e8-b62a-002710199d64     9298\n",
       "eb1bee33-a71a-11e8-b62a-002710199d64    10006\n",
       "eb1bee34-a71a-11e8-b62a-002710199d64     7875\n",
       "eb1bee35-a71a-11e8-b62a-002710199d64    14225\n",
       "dtype: int64"
      ]
     },
     "execution_count": 27,
     "metadata": {},
     "output_type": "execute_result"
    }
   ],
   "source": [
    "corpus.num_types"
   ]
  },
  {
   "cell_type": "markdown",
   "metadata": {},
   "source": [
    "#### Get a document by its UUID"
   ]
  },
  {
   "cell_type": "code",
   "execution_count": 28,
   "metadata": {},
   "outputs": [
    {
     "data": {
      "text/plain": [
       "'eb1bee2c-a71a-11e8-b62a-002710199d64'"
      ]
     },
     "execution_count": 28,
     "metadata": {},
     "output_type": "execute_result"
    }
   ],
   "source": [
    "uuid = corpus.documents.index[0]  # first document\n",
    "uuid"
   ]
  },
  {
   "cell_type": "markdown",
   "metadata": {},
   "source": [
    "Select it and show its bag-of-words representation:"
   ]
  },
  {
   "cell_type": "code",
   "execution_count": 29,
   "metadata": {},
   "outputs": [
    {
     "data": {
      "text/plain": [
       "phineas      954\n",
       "finn         354\n",
       "by           570\n",
       "anthony        1\n",
       "trollope       1\n",
       "volume         3\n",
       "chapter       51\n",
       "dr            29\n",
       "of          4004\n",
       "killaloe      33\n",
       "dtype: int64"
      ]
     },
     "execution_count": 29,
     "metadata": {},
     "output_type": "execute_result"
    }
   ],
   "source": [
    "document = corpus.documents[uuid]\n",
    "document.bow[:10]"
   ]
  },
  {
   "cell_type": "markdown",
   "metadata": {},
   "source": [
    "Or its tokens:"
   ]
  },
  {
   "cell_type": "code",
   "execution_count": 30,
   "metadata": {},
   "outputs": [
    {
     "data": {
      "text/plain": [
       "['phineas',\n",
       " 'finn',\n",
       " 'by',\n",
       " 'anthony',\n",
       " 'trollope',\n",
       " 'volume',\n",
       " 'chapter',\n",
       " 'dr',\n",
       " 'finn',\n",
       " 'of']"
      ]
     },
     "execution_count": 30,
     "metadata": {},
     "output_type": "execute_result"
    }
   ],
   "source": [
    "document.tokens[:10]"
   ]
  },
  {
   "cell_type": "markdown",
   "metadata": {},
   "source": [
    "#### Get token lengths"
   ]
  },
  {
   "cell_type": "code",
   "execution_count": 31,
   "metadata": {},
   "outputs": [
    {
     "data": {
      "text/plain": [
       "array([7, 4, 2, ..., 6, 2, 4])"
      ]
     },
     "execution_count": 31,
     "metadata": {},
     "output_type": "execute_result"
    }
   ],
   "source": [
    "document.lengths"
   ]
  },
  {
   "cell_type": "markdown",
   "metadata": {},
   "source": [
    "Or the mean token length:"
   ]
  },
  {
   "cell_type": "code",
   "execution_count": 32,
   "metadata": {},
   "outputs": [
    {
     "data": {
      "text/plain": [
       "4.271233808678948"
      ]
     },
     "execution_count": 32,
     "metadata": {},
     "output_type": "execute_result"
    }
   ],
   "source": [
    "document.lengths.mean()"
   ]
  },
  {
   "cell_type": "markdown",
   "metadata": {},
   "source": [
    "#### Sliding window\n",
    "\n",
    "You can iterate with a sliding window over your document:"
   ]
  },
  {
   "cell_type": "code",
   "execution_count": 33,
   "metadata": {},
   "outputs": [
    {
     "name": "stdout",
     "output_type": "stream",
     "text": [
      "['phineas', 'finn', 'by', 'anthony', 'trollope', 'volume', 'chapter', 'dr', 'finn', 'of']\n"
     ]
    }
   ],
   "source": [
    "for chunk in document.window(size=10):\n",
    "    print(chunk)\n",
    "    break"
   ]
  },
  {
   "cell_type": "markdown",
   "metadata": {},
   "source": [
    "#### Get paragraphs or segments"
   ]
  },
  {
   "cell_type": "code",
   "execution_count": 34,
   "metadata": {},
   "outputs": [
    {
     "name": "stdout",
     "output_type": "stream",
     "text": [
      "There are 13684 paragraphs.\n",
      "And 150 segments, 1000 tokens each segment.\n",
      "First paragraph: PHINEAS FINN\n"
     ]
    }
   ],
   "source": [
    "paragraphs = list(document.paragraphs(sep=\"\\n\"))\n",
    "segments = list(document.segments(size=1000))\n",
    "\n",
    "print(\"There are {} paragraphs.\".format(len(paragraphs)))\n",
    "print(\"And {} segments, 1000 tokens each segment.\".format(len(segments)))\n",
    "print(\"First paragraph: {}\".format(paragraphs[0]))"
   ]
  },
  {
   "cell_type": "markdown",
   "metadata": {},
   "source": [
    "#### Complexity metrics\n",
    "\n",
    "There are a plenty of complexity metrics for measuring lexical richness (adapted from [here](https://github.com/tsproisl/Linguistic_and_Stylistic_Complexity)).\n",
    "\n",
    "\n",
    "Measures that use sample size and vocabulary size:\n",
    "\n",
    "  * Type-token ratio\n",
    "  * Guiraud’s $R$\n",
    "  * Herdan’s $C$\n",
    "  * Dugast’s $k$\n",
    "  * Maas’ $a^2$\n",
    "  * Dugast’s $U$\n",
    "  * Tuldava’s $LN$\n",
    "  * Brunet’s $W$\n",
    "  * Carroll’s $CTTR$\n",
    "  * Summer’s $S$\n",
    "\n",
    "Measures that use part of the frequency spectrum:\n",
    "\n",
    "  * Honoré’s $H$\n",
    "  * Sichel’s $S$\n",
    "  * Michéa’s $M$\n",
    "\n",
    "Measures that use the whole frequency spectrum:\n",
    "\n",
    "  * Entropy\n",
    "  * Yule’s $K$\n",
    "  * Simpson’s $D$\n",
    "  * Herdan’s $V_m$\n",
    "\n",
    "Parameters of probabilistic models:\n",
    "\n",
    "  * Orlov’s $Z$\n",
    "\n",
    "\n",
    "You can access them for the _whole corpus_ using the corresponding attributes:"
   ]
  },
  {
   "cell_type": "code",
   "execution_count": 35,
   "metadata": {},
   "outputs": [
    {
     "data": {
      "text/plain": [
       "0.025225368248397752"
      ]
     },
     "execution_count": 35,
     "metadata": {},
     "output_type": "execute_result"
    }
   ],
   "source": [
    "corpus.ttr"
   ]
  },
  {
   "cell_type": "markdown",
   "metadata": {},
   "source": [
    "Or by _document_ using the `complexity()` method. You _have_ to use a sliding window in this case."
   ]
  },
  {
   "cell_type": "code",
   "execution_count": 36,
   "metadata": {},
   "outputs": [],
   "source": [
    "sttr = corpus.complexity(measure=\"ttr\", window=2000)"
   ]
  },
  {
   "cell_type": "markdown",
   "metadata": {},
   "source": [
    "Of course you can also map metadata here again:"
   ]
  },
  {
   "cell_type": "code",
   "execution_count": 37,
   "metadata": {},
   "outputs": [
    {
     "data": {
      "text/html": [
       "<div>\n",
       "<style scoped>\n",
       "    .dataframe tbody tr th:only-of-type {\n",
       "        vertical-align: middle;\n",
       "    }\n",
       "\n",
       "    .dataframe tbody tr th {\n",
       "        vertical-align: top;\n",
       "    }\n",
       "\n",
       "    .dataframe thead th {\n",
       "        text-align: right;\n",
       "    }\n",
       "</style>\n",
       "<table border=\"1\" class=\"dataframe\">\n",
       "  <thead>\n",
       "    <tr style=\"text-align: right;\">\n",
       "      <th></th>\n",
       "      <th>sttr</th>\n",
       "      <th>ci</th>\n",
       "    </tr>\n",
       "  </thead>\n",
       "  <tbody>\n",
       "    <tr>\n",
       "      <th>trollope_phineas</th>\n",
       "      <td>0.307230</td>\n",
       "      <td>0.004331</td>\n",
       "    </tr>\n",
       "    <tr>\n",
       "      <th>dickens_bleak</th>\n",
       "      <td>0.359245</td>\n",
       "      <td>0.007024</td>\n",
       "    </tr>\n",
       "    <tr>\n",
       "      <th>eliot_mill</th>\n",
       "      <td>0.365087</td>\n",
       "      <td>0.007684</td>\n",
       "    </tr>\n",
       "    <tr>\n",
       "      <th>eliot_adam</th>\n",
       "      <td>0.374310</td>\n",
       "      <td>0.006497</td>\n",
       "    </tr>\n",
       "    <tr>\n",
       "      <th>fielding_joseph</th>\n",
       "      <td>0.363512</td>\n",
       "      <td>0.004977</td>\n",
       "    </tr>\n",
       "    <tr>\n",
       "      <th>fielding_tom</th>\n",
       "      <td>0.359880</td>\n",
       "      <td>0.004151</td>\n",
       "    </tr>\n",
       "    <tr>\n",
       "      <th>thackeray_lyndon</th>\n",
       "      <td>0.378406</td>\n",
       "      <td>0.005436</td>\n",
       "    </tr>\n",
       "    <tr>\n",
       "      <th>dickens_david</th>\n",
       "      <td>0.346240</td>\n",
       "      <td>0.003996</td>\n",
       "    </tr>\n",
       "    <tr>\n",
       "      <th>trollope_prime</th>\n",
       "      <td>0.313212</td>\n",
       "      <td>0.004565</td>\n",
       "    </tr>\n",
       "    <tr>\n",
       "      <th>thackeray_vanity</th>\n",
       "      <td>0.388614</td>\n",
       "      <td>0.003362</td>\n",
       "    </tr>\n",
       "  </tbody>\n",
       "</table>\n",
       "</div>"
      ],
      "text/plain": [
       "                      sttr        ci\n",
       "trollope_phineas  0.307230  0.004331\n",
       "dickens_bleak     0.359245  0.007024\n",
       "eliot_mill        0.365087  0.007684\n",
       "eliot_adam        0.374310  0.006497\n",
       "fielding_joseph   0.363512  0.004977\n",
       "fielding_tom      0.359880  0.004151\n",
       "thackeray_lyndon  0.378406  0.005436\n",
       "dickens_david     0.346240  0.003996\n",
       "trollope_prime    0.313212  0.004565\n",
       "thackeray_vanity  0.388614  0.003362"
      ]
     },
     "execution_count": 37,
     "metadata": {},
     "output_type": "execute_result"
    }
   ],
   "source": [
    "sttr = corpus.map_metadata(sttr, metadata)\n",
    "sttr"
   ]
  },
  {
   "cell_type": "markdown",
   "metadata": {},
   "source": [
    "And visualize the result e.g. as a barplot:"
   ]
  },
  {
   "cell_type": "code",
   "execution_count": 38,
   "metadata": {},
   "outputs": [
    {
     "data": {
      "text/plain": [
       "<matplotlib.axes._subplots.AxesSubplot at 0x7fa0126dcbe0>"
      ]
     },
     "execution_count": 38,
     "metadata": {},
     "output_type": "execute_result"
    },
    {
     "data": {
      "image/png": "[encoded data removed]",
      "text/plain": [
       "<Figure size 432x288 with 1 Axes>"
      ]
     },
     "metadata": {},
     "output_type": "display_data"
    }
   ],
   "source": [
    "sttr[\"sttr\"].plot.barh(color=\"grey\")"
   ]
  },
  {
   "cell_type": "markdown",
   "metadata": {},
   "source": [
    "#### Going back to the document level\n",
    "\n",
    "The complexity measures can be accessed via the `Corpus` object as well as via a `Document` object – even more flexible in the case of `Document`, e.g. using the `bootstrap()` method:"
   ]
  },
  {
   "cell_type": "code",
   "execution_count": 39,
   "metadata": {},
   "outputs": [
    {
     "name": "stdout",
     "output_type": "stream",
     "text": [
      "These are the TTRs of the first 10 windows: [0.327, 0.312, 0.33, 0.3185, 0.3195, 0.3215, 0.3125, 0.3115, 0.315, 0.307]\n"
     ]
    }
   ],
   "source": [
    "results = list(document.bootstrap(measure=\"ttr\", window=2000))\n",
    "\n",
    "print(\"These are the TTRs of the first 10 windows: {}\".format(results[:10]))"
   ]
  },
  {
   "cell_type": "markdown",
   "metadata": {},
   "source": [
    "If you put those in a pandas `Series`, you could plot them and see how the TTRs differ over the document:"
   ]
  },
  {
   "cell_type": "code",
   "execution_count": 40,
   "metadata": {},
   "outputs": [
    {
     "data": {
      "text/plain": [
       "<matplotlib.axes._subplots.AxesSubplot at 0x7fa012318c18>"
      ]
     },
     "execution_count": 40,
     "metadata": {},
     "output_type": "execute_result"
    },
    {
     "data": {
      "image/png": "[encoded data removed]",
      "text/plain": [
       "<Figure size 432x288 with 1 Axes>"
      ]
     },
     "metadata": {},
     "output_type": "display_data"
    }
   ],
   "source": [
    "import pandas as pd\n",
    "\n",
    "pd.Series(results).plot.line(color=\"grey\")"
   ]
  },
  {
   "cell_type": "markdown",
   "metadata": {},
   "source": [
    "## Low-level model classes\n",
    "\n",
    "The `cophi.corpus()` function wraps three classes:\n",
    "\n",
    "1. `Textfile` models a document on the file level.\n",
    "2. `Document` models a document on the text level.\n",
    "3. `Corpus` models a collection of documents on the corpus level."
   ]
  },
  {
   "cell_type": "markdown",
   "metadata": {},
   "source": [
    "### Textfile"
   ]
  },
  {
   "cell_type": "code",
   "execution_count": 41,
   "metadata": {},
   "outputs": [],
   "source": [
    "file = \"/home/severin/kafka_derprozeß.xml\""
   ]
  },
  {
   "cell_type": "code",
   "execution_count": 42,
   "metadata": {},
   "outputs": [],
   "source": [
    "f = cophi.Textfile(filepath=file,\n",
    "                   treat_as=\".xml\")"
   ]
  },
  {
   "cell_type": "code",
   "execution_count": 43,
   "metadata": {},
   "outputs": [
    {
     "data": {
      "text/plain": [
       "'kafka_derprozeß'"
      ]
     },
     "execution_count": 43,
     "metadata": {},
     "output_type": "execute_result"
    }
   ],
   "source": [
    "f.title"
   ]
  },
  {
   "cell_type": "code",
   "execution_count": 44,
   "metadata": {},
   "outputs": [
    {
     "data": {
      "text/plain": [
       "'.xml'"
      ]
     },
     "execution_count": 44,
     "metadata": {},
     "output_type": "execute_result"
    }
   ],
   "source": [
    "f.suffix"
   ]
  },
  {
   "cell_type": "code",
   "execution_count": 45,
   "metadata": {},
   "outputs": [
    {
     "data": {
      "text/plain": [
       "'/home/severin'"
      ]
     },
     "execution_count": 45,
     "metadata": {},
     "output_type": "execute_result"
    }
   ],
   "source": [
    "f.parent"
   ]
  },
  {
   "cell_type": "code",
   "execution_count": 46,
   "metadata": {},
   "outputs": [
    {
     "data": {
      "text/plain": [
       "'Der Prozeß'"
      ]
     },
     "execution_count": 46,
     "metadata": {},
     "output_type": "execute_result"
    }
   ],
   "source": [
    "f.content.strip()[:10]"
   ]
  },
  {
   "cell_type": "markdown",
   "metadata": {},
   "source": [
    "#### Context-manager"
   ]
  },
  {
   "cell_type": "code",
   "execution_count": 47,
   "metadata": {},
   "outputs": [
    {
     "name": "stdout",
     "output_type": "stream",
     "text": [
      "First 10 characters of 'kafka_derprozeß.xml', treated as XML: \n",
      "Der Prozeß\n"
     ]
    }
   ],
   "source": [
    "with cophi.Textfile(file, treat_as=\".xml\") as document:\n",
    "    print(f\"First 10 characters of '{document.title + document.suffix}', treated as XML: \\n{document.content.strip()[:10]}\")"
   ]
  },
  {
   "cell_type": "code",
   "execution_count": 48,
   "metadata": {},
   "outputs": [
    {
     "name": "stdout",
     "output_type": "stream",
     "text": [
      "First 39 characters of 'kafka_derprozeß.xml', treated as plain text: \n",
      "<?xml version=\"1.0\" encoding=\"UTF-8\"?>\n",
      "\n"
     ]
    }
   ],
   "source": [
    "with cophi.Textfile(file, treat_as=\".txt\") as document:\n",
    "    print(f\"First 39 characters of '{document.title + document.suffix}', treated as plain text: \\n{document.content.strip()[:39]}\")"
   ]
  },
  {
   "cell_type": "markdown",
   "metadata": {},
   "source": [
    "#### Processing XML"
   ]
  },
  {
   "cell_type": "code",
   "execution_count": 49,
   "metadata": {},
   "outputs": [
    {
     "data": {
      "text/plain": [
       "<lxml.etree._ElementTree at 0x7fa00beae808>"
      ]
     },
     "execution_count": 49,
     "metadata": {},
     "output_type": "execute_result"
    }
   ],
   "source": [
    "from lxml import etree\n",
    "\n",
    "tree = f.parse_xml(parser=etree.XMLParser())\n",
    "tree"
   ]
  },
  {
   "cell_type": "code",
   "execution_count": 50,
   "metadata": {},
   "outputs": [
    {
     "data": {
      "text/plain": [
       "'Jemand mußte Josef K. verleumdet haben, denn ohne daß er etwas Böses getan hätte, wurde er eines Morgens verhaftet. Die Köchin der Frau Grubach, seiner Zimmervermieterin, die ihm jeden Tag gegen acht Uhr früh das Frühstück brachte, kam diesmal nicht. Das war noch niemals geschehen. K. wartete noch ein Weilchen, sah von seinem Kopfkissen aus die alte Frau, die ihm gegenüber wohnte und die ihn mit einer an ihr ganz ungewöhnlichen Neugierde beobachtete, dann aber, gleichzeitig befremdet und hungrig, läutete er. Sofort klopfte es und ein Mann, den er in dieser Wohnung noch niemals gesehen hatte, trat ein. Er war schlank und doch fest gebaut, er trug ein anliegendes schwarzes Kleid, das, ähnlich den Reiseanzügen, mit verschiedenen Falten, Taschen, Schnallen, Knöpfen und einem Gürtel versehen war und infolgedessen, ohne daß man sich darüber klar wurde, wozu es dienen sollte, besonders praktisch erschien. »Wer sind Sie?« fragte K. und saß gleich halb aufrecht im Bett. Der Mann aber ging über die Frage hinweg, als müsse man seine Erscheinung hinnehmen, und sagte bloß seinerseits: »Sie haben geläutet?« »Anna soll mir das Frühstück bringen«, sagte K. und versuchte, zunächst stillschweigend, durch Aufmerksamkeit und Überlegung festzustellen, wer der Mann eigentlich war. Aber dieser setzte sich nicht allzulange seinen '"
      ]
     },
     "execution_count": 50,
     "metadata": {},
     "output_type": "execute_result"
    }
   ],
   "source": [
    "tree.xpath(\"tei:text//text()\", namespaces={\"tei\": \"http://www.tei-c.org/ns/1.0\"})[31]"
   ]
  },
  {
   "cell_type": "markdown",
   "metadata": {},
   "source": [
    "#### Use case: Segmenting and tokenizing a textfile\n",
    "\n",
    "Construct a `Document` object:"
   ]
  },
  {
   "cell_type": "code",
   "execution_count": 51,
   "metadata": {},
   "outputs": [],
   "source": [
    "d = cophi.Document(text=f.content)"
   ]
  },
  {
   "cell_type": "markdown",
   "metadata": {},
   "source": [
    "Segmenting the document:"
   ]
  },
  {
   "cell_type": "code",
   "execution_count": 52,
   "metadata": {},
   "outputs": [
    {
     "name": "stdout",
     "output_type": "stream",
     "text": [
      "71 segments in 'kafka_derprozeß'.\n"
     ]
    }
   ],
   "source": [
    "segments = list(d.segments(size=1000))\n",
    "print(\"{} segments in '{}'.\".format(len(segments), f.title))"
   ]
  },
  {
   "cell_type": "markdown",
   "metadata": {},
   "source": [
    "Creating labels for the segment:"
   ]
  },
  {
   "cell_type": "code",
   "execution_count": 53,
   "metadata": {},
   "outputs": [],
   "source": [
    "labels = [\"{}_{}\".format(f.title, n) for n in range(len(segments))]"
   ]
  },
  {
   "cell_type": "code",
   "execution_count": 54,
   "metadata": {},
   "outputs": [
    {
     "data": {
      "text/plain": [
       "kafka_derprozeß_0    [der, prozeß, hdl, de, textgrid:qmx, der, anno...\n",
       "kafka_derprozeß_1    [vielleicht, noch, besaß, schätzte, er, nicht,...\n",
       "kafka_derprozeß_2    [worte, die, ich, mit, einem, mir, ebenbürtige...\n",
       "kafka_derprozeß_3    [gehen, pflegte, spät, nach, hause, kam, und, ...\n",
       "kafka_derprozeß_4    [er, dann, hinüber, die, drei, wichen, auch, s...\n",
       "kafka_derprozeß_5    [mann, aufmerksam, machte, den, er, selbst, sc...\n",
       "kafka_derprozeß_6    [ja, bloß, die, vermieterin, nun, ich, habe, a...\n",
       "kafka_derprozeß_7    [fenster, lag, und, die, müden, augen, drückte...\n",
       "kafka_derprozeß_8    [den, leib, schickt, da, sie, aber, doch, frei...\n",
       "kafka_derprozeß_9    [hat, eine, größere, summe, von, mir, geliehen...\n",
       "dtype: object"
      ]
     },
     "execution_count": 54,
     "metadata": {},
     "output_type": "execute_result"
    }
   ],
   "source": [
    "pd.Series(segments, index=labels).head(10)"
   ]
  },
  {
   "cell_type": "markdown",
   "metadata": {},
   "source": [
    "## Low-level helper functions"
   ]
  },
  {
   "cell_type": "markdown",
   "metadata": {},
   "source": [
    "#### Tokenization"
   ]
  },
  {
   "cell_type": "code",
   "execution_count": 55,
   "metadata": {},
   "outputs": [
    {
     "name": "stdout",
     "output_type": "stream",
     "text": [
      "The return value is a <class 'generator'>.\n",
      "Use it e.g. as a list: list(tokens) -> ['Jemand', 'mußte', 'Josef', 'K']\n",
      "Note that it stopped tokenizing after 4 words (because you set maximum=4).\n"
     ]
    }
   ],
   "source": [
    "tokens = cophi.utils.find_tokens(document=\"Jemand mußte Josef K. verleumdet haben.\",\n",
    "                                 token_pattern=\"\\w+\",\n",
    "                                 maximum=4)\n",
    "\n",
    "print(\"The return value is a {}.\".format(type(tokens)))\n",
    "print(\"Use it e.g. as a list: list(tokens) -> {}\".format(list(tokens)))\n",
    "print(\"Note that it stopped tokenizing after 4 words (because you set maximum=4).\")"
   ]
  },
  {
   "cell_type": "markdown",
   "metadata": {},
   "source": [
    "#### Constructing ngrams"
   ]
  },
  {
   "cell_type": "code",
   "execution_count": 56,
   "metadata": {},
   "outputs": [
    {
     "name": "stdout",
     "output_type": "stream",
     "text": [
      "The return value is also a <class 'generator'>.\n",
      "You can use it as a list, too: list(bigrams) -> ['Jemand mußte', 'mußte Josef', 'Josef K']\n"
     ]
    }
   ],
   "source": [
    "bigrams = cophi.utils.construct_ngrams(tokens=['Jemand', 'mußte', 'Josef', 'K'],\n",
    "                                       n=2,\n",
    "                                       sep=\" \")\n",
    "print(\"The return value is also a {}.\".format(type(bigrams)))\n",
    "print(\"You can use it as a list, too: list(bigrams) -> {}\".format(list(bigrams)))"
   ]
  }
 ],
 "metadata": {
  "kernelspec": {
   "display_name": "Python 3",
   "language": "python",
   "name": "python3"
  },
  "language_info": {
   "codemirror_mode": {
    "name": "ipython",
    "version": 3
   },
   "file_extension": ".py",
   "mimetype": "text/x-python",
   "name": "python",
   "nbconvert_exporter": "python",
   "pygments_lexer": "ipython3",
   "version": "3.6.5"
  }
 },
 "nbformat": 4,
 "nbformat_minor": 2
}
